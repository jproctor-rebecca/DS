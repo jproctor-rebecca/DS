{
  "nbformat": 4,
  "nbformat_minor": 0,
  "metadata": {
    "colab": {
      "name": "LS_DS_432_TensorFlow_Assignment_RJProctor",
      "provenance": [],
      "collapsed_sections": [],
      "include_colab_link": true
    },
    "kernelspec": {
      "name": "python3",
      "display_name": "Python 3"
    },
    "accelerator": "GPU"
  },
  "cells": [
    {
      "cell_type": "markdown",
      "metadata": {
        "id": "view-in-github",
        "colab_type": "text"
      },
      "source": [
        "<a href=\"https://colab.research.google.com/github/jproctor-rebecca/DS/blob/main/module1-Architect/LS_DS_432_TensorFlow_Assignment_RJProctor.ipynb\" target=\"_parent\"><img src=\"https://colab.research.google.com/assets/colab-badge.svg\" alt=\"Open In Colab\"/></a>"
      ]
    },
    {
      "cell_type": "markdown",
      "metadata": {
        "id": "ObyHCH8HvHSf"
      },
      "source": [
        "<img align=\"left\" src=\"https://lever-client-logos.s3.amazonaws.com/864372b1-534c-480e-acd5-9711f850815c-1524247202159.png\" width=200>\n",
        "<br></br>\n",
        "<br></br>\n",
        "\n",
        "# *Data Science Unit 4 Sprint 2 Assignment 1*\n",
        "\n",
        "Use TensorFlow Keras & a sample of the [Quickdraw dataset](https://github.com/googlecreativelab/quickdraw-dataset) to build a sketch classification model. The dataset has been sampled to only 10 classes and 10000 observations per class. Please build a baseline classification model then run a few experiments with different optimizers and learning rates. \n",
        "\n",
        "*Don't forgot to switch to GPU on Colab!*"
      ]
    },
    {
      "cell_type": "code",
      "metadata": {
        "id": "itd4eEeuDvs_",
        "outputId": "de771ce3-1be5-4fa5-f4f9-8f366bcae794",
        "colab": {
          "base_uri": "https://localhost:8080/"
        }
      },
      "source": [
        "# run this code to make sure that your colab noteook is using the GPU\n",
        "# the gpu isn't strictly necessary for this lesson\n",
        "# but there are future lessons that will need the accelerated processing of a gpu\n",
        "# see google colab docs for more details: https://colab.research.google.com/notebooks/gpu.ipynb#scrollTo=sXnDmXR7RDr2\n",
        "import tensorflow as tf\n",
        "device_name = tf.test.gpu_device_name()\n",
        "if device_name != '/device:GPU:0':\n",
        "  raise SystemError('GPU device not found')\n",
        "print('Found GPU at: {}'.format(device_name))"
      ],
      "execution_count": 15,
      "outputs": [
        {
          "output_type": "stream",
          "text": [
            "Found GPU at: /device:GPU:0\n"
          ],
          "name": "stdout"
        }
      ]
    },
    {
      "cell_type": "markdown",
      "metadata": {
        "id": "s-Tc3ovEyQ9b"
      },
      "source": [
        "## Load Your Data"
      ]
    },
    {
      "cell_type": "code",
      "metadata": {
        "id": "CkU0pAYCvU8o",
        "outputId": "58d63894-5cd7-40d2-c83c-8714bbbbe2e6",
        "colab": {
          "base_uri": "https://localhost:8080/"
        }
      },
      "source": [
        "import numpy as np\n",
        "import tensorflow as tf \n",
        "from sklearn.model_selection import train_test_split\n",
        "\n",
        "data = np.load('quickdraw10.npz')\n",
        "X = data['arr_0']\n",
        "y = data['arr_1']\n",
        "\n",
        "X_train, X_test, y_train, y_test = train_test_split(\n",
        "    X, y, test_size=0.20, random_state=42)\n",
        "\n",
        "print(X.shape)\n",
        "print(y_train.shape)\n",
        "print(X.shape)\n",
        "print(y_train.shape)"
      ],
      "execution_count": 17,
      "outputs": [
        {
          "output_type": "stream",
          "text": [
            "(100000, 784)\n",
            "(80000,)\n",
            "(100000, 784)\n",
            "(80000,)\n"
          ],
          "name": "stdout"
        }
      ]
    },
    {
      "cell_type": "code",
      "metadata": {
        "id": "c8qsDqdqvHDd"
      },
      "source": [
        "class_names = ['apple',\n",
        " 'anvil',\n",
        " 'airplane',\n",
        " 'banana',\n",
        " 'The Eiffel Tower',\n",
        " 'The Mona Lisa',\n",
        " 'The Great Wall of China',\n",
        " 'alarm clock',\n",
        " 'ant',\n",
        " 'asparagus']"
      ],
      "execution_count": 18,
      "outputs": []
    },
    {
      "cell_type": "code",
      "metadata": {
        "id": "Owbm1EbxvA5A",
        "outputId": "b535b2ef-9ee6-4598-a084-361e184f66c4",
        "colab": {
          "base_uri": "https://localhost:8080/",
          "height": 289
        }
      },
      "source": [
        "import matplotlib.pyplot as plt\n",
        "plt.figure(figsize=(10,5))\n",
        "start = 0\n",
        "\n",
        "for num, name in enumerate(class_names):\n",
        "    plt.subplot(2,5, num+1)\n",
        "    plt.xticks([])\n",
        "    plt.yticks([])\n",
        "    plt.grid(False)\n",
        "    plt.imshow(X[start].reshape(28,28), cmap=plt.cm.binary)\n",
        "    plt.xlabel(name)\n",
        "    start += 10000\n",
        "plt.show()"
      ],
      "execution_count": 19,
      "outputs": [
        {
          "output_type": "display_data",
          "data": {
            "image/png": "[encoded data removed]",
            "text/plain": [
              "<Figure size 720x360 with 10 Axes>"
            ]
          },
          "metadata": {
            "tags": []
          }
        }
      ]
    },
    {
      "cell_type": "code",
      "metadata": {
        "id": "c97_M1WNvTNY"
      },
      "source": [
        "# Need this line to randomly shuffle both the X & y at the same time.\n",
        "\n",
        "from sklearn.utils import shuffle\n",
        "X, y = shuffle(X, y)"
      ],
      "execution_count": 20,
      "outputs": []
    },
    {
      "cell_type": "markdown",
      "metadata": {
        "id": "jb70CbLVyK65"
      },
      "source": [
        "## Build Your Baseline Model\n",
        "Some Hints:\n",
        "\n",
        "\n",
        "*  Model should have 784 input values (like mnist)\n",
        "*  Use `sparse_categorical_crossentropy` as your loss function.\n",
        "* You need 10 neurons in your last layer for output\n",
        "* You can add as many hidden layers with as many neurons in them as you like. \n",
        "* Limit your model epochs to 30 each time you fit.\n",
        "* You can use the `validation_split` command to automatically create a training / validation dataset.  Specify a percentage such as .2 in your fit statement. \n",
        "\n"
      ]
    },
    {
      "cell_type": "code",
      "metadata": {
        "id": "zHWblzsMyNkU",
        "outputId": "76ce45ee-b808-48f6-e0c9-1807bea4df3f",
        "colab": {
          "base_uri": "https://localhost:8080/"
        }
      },
      "source": [
        "import tensorflow\n",
        "\n",
        "from tensorflow import keras\n",
        "# mnist is a very common data set to use, it's often use as a benchmark dataset \n",
        "# i.e. whenever someone comes out with the latest state-of-the-art image classifer a data set like mnist will be used to test the model\n",
        "from tensorflow.keras.datasets import mnist\n",
        "from tensorflow.keras.models import Sequential\n",
        "# Dense is the code that handels the full connected forward feeding dynamics of the model that we cover today\n",
        "# i.e. the passing of the weighted sum values in a vector to all the nodes in the next layer \n",
        "from tensorflow.keras.layers import Dense\n",
        "import numpy as np\n",
        "# perceptron \n",
        "# need 10 neurons in last layer for output \n",
        "n_neurons = 10\n",
        "\n",
        "# docs for sequential: https://keras.io/api/models/sequential/\n",
        "# instantiate Sequential - builidng a computational graph one layer at a time \n",
        "model_adam = Sequential()\n",
        "\n",
        "model_adam.add(Dense(n_neurons, # number of neurons in this layer \n",
        "                input_dim=784, # implict input layer, here we need to specify the dims of the input data\n",
        "                activation='sigmoid', # specify the activation function\n",
        "               ))\n",
        "\n",
        "# Use sparse_categorical_crossentropy\n",
        "model_adam.compile(optimizer='adam', # TensorFlow: learning_rate=0.001, beta1=0.9, beta2=0.999, epsilon=1e-08.\n",
        "              loss='sparse_categorical_crossentropy', \n",
        "              metrics='accuracy',\n",
        "              #validation_split=0.2\n",
        "              ) \n",
        "\n",
        "# Limit model epochs to 30 each fit\n",
        "model_adam.fit(X,y, epochs=30)"
      ],
      "execution_count": 21,
      "outputs": [
        {
          "output_type": "stream",
          "text": [
            "Epoch 1/30\n",
            "3125/3125 [==============================] - 5s 2ms/step - loss: 2.5451 - accuracy: 0.3630\n",
            "Epoch 2/30\n",
            "3125/3125 [==============================] - 5s 2ms/step - loss: 2.0866 - accuracy: 0.3750\n",
            "Epoch 3/30\n",
            "3125/3125 [==============================] - 6s 2ms/step - loss: 2.0238 - accuracy: 0.3736\n",
            "Epoch 4/30\n",
            "3125/3125 [==============================] - 6s 2ms/step - loss: 1.9956 - accuracy: 0.3771\n",
            "Epoch 5/30\n",
            "3125/3125 [==============================] - 5s 2ms/step - loss: 1.9487 - accuracy: 0.3754\n",
            "Epoch 6/30\n",
            "3125/3125 [==============================] - 5s 2ms/step - loss: 1.9331 - accuracy: 0.3815\n",
            "Epoch 7/30\n",
            "3125/3125 [==============================] - 5s 2ms/step - loss: 1.8949 - accuracy: 0.3767\n",
            "Epoch 8/30\n",
            "3125/3125 [==============================] - 5s 2ms/step - loss: 1.9163 - accuracy: 0.3902\n",
            "Epoch 9/30\n",
            "3125/3125 [==============================] - 5s 2ms/step - loss: 1.8625 - accuracy: 0.3817\n",
            "Epoch 10/30\n",
            "3125/3125 [==============================] - 5s 2ms/step - loss: 1.8732 - accuracy: 0.3792\n",
            "Epoch 11/30\n",
            "3125/3125 [==============================] - 5s 2ms/step - loss: 1.8782 - accuracy: 0.3799\n",
            "Epoch 12/30\n",
            "3125/3125 [==============================] - 5s 2ms/step - loss: 1.8292 - accuracy: 0.3791\n",
            "Epoch 13/30\n",
            "3125/3125 [==============================] - 5s 2ms/step - loss: 1.8533 - accuracy: 0.3742\n",
            "Epoch 14/30\n",
            "3125/3125 [==============================] - 5s 2ms/step - loss: 1.8511 - accuracy: 0.3828\n",
            "Epoch 15/30\n",
            "3125/3125 [==============================] - 5s 2ms/step - loss: 1.8261 - accuracy: 0.3863\n",
            "Epoch 16/30\n",
            "3125/3125 [==============================] - 5s 2ms/step - loss: 1.8515 - accuracy: 0.3783\n",
            "Epoch 17/30\n",
            "3125/3125 [==============================] - 5s 2ms/step - loss: 1.8465 - accuracy: 0.3909\n",
            "Epoch 18/30\n",
            "3125/3125 [==============================] - 5s 2ms/step - loss: 1.8225 - accuracy: 0.3871\n",
            "Epoch 19/30\n",
            "3125/3125 [==============================] - 5s 2ms/step - loss: 1.8259 - accuracy: 0.3888\n",
            "Epoch 20/30\n",
            "3125/3125 [==============================] - 5s 2ms/step - loss: 1.8526 - accuracy: 0.3798\n",
            "Epoch 21/30\n",
            "3125/3125 [==============================] - 5s 2ms/step - loss: 1.8187 - accuracy: 0.3861\n",
            "Epoch 22/30\n",
            "3125/3125 [==============================] - 5s 2ms/step - loss: 1.8312 - accuracy: 0.3806\n",
            "Epoch 23/30\n",
            "3125/3125 [==============================] - 5s 2ms/step - loss: 1.7899 - accuracy: 0.3789\n",
            "Epoch 24/30\n",
            "3125/3125 [==============================] - 5s 2ms/step - loss: 1.8212 - accuracy: 0.3863\n",
            "Epoch 25/30\n",
            "3125/3125 [==============================] - 5s 2ms/step - loss: 1.8111 - accuracy: 0.3942\n",
            "Epoch 26/30\n",
            "3125/3125 [==============================] - 5s 2ms/step - loss: 1.7863 - accuracy: 0.3911\n",
            "Epoch 27/30\n",
            "3125/3125 [==============================] - 6s 2ms/step - loss: 1.8064 - accuracy: 0.3859\n",
            "Epoch 28/30\n",
            "3125/3125 [==============================] - 5s 2ms/step - loss: 1.7851 - accuracy: 0.3917\n",
            "Epoch 29/30\n",
            "3125/3125 [==============================] - 5s 2ms/step - loss: 1.7806 - accuracy: 0.3901\n",
            "Epoch 30/30\n",
            "3125/3125 [==============================] - 5s 2ms/step - loss: 1.7901 - accuracy: 0.3851\n"
          ],
          "name": "stdout"
        },
        {
          "output_type": "execute_result",
          "data": {
            "text/plain": [
              "<tensorflow.python.keras.callbacks.History at 0x7f90f1069eb8>"
            ]
          },
          "metadata": {
            "tags": []
          },
          "execution_count": 21
        }
      ]
    },
    {
      "cell_type": "code",
      "metadata": {
        "id": "9XIEno7Y_Dc_"
      },
      "source": [
        ""
      ],
      "execution_count": null,
      "outputs": []
    },
    {
      "cell_type": "code",
      "metadata": {
        "id": "1l7qYzJFCPsr"
      },
      "source": [
        "# Standardization\n",
        "max_pixal_value = 255. \n",
        "X_train = X_train.astype('float32') / max_pixal_value\n",
        "X_test = X_test.astype('float32') /max_pixal_value"
      ],
      "execution_count": 23,
      "outputs": []
    },
    {
      "cell_type": "code",
      "metadata": {
        "id": "oVXGc7YJBs3N",
        "outputId": "0326021f-f3a1-479c-cf98-3d7f205b545e",
        "colab": {
          "base_uri": "https://localhost:8080/"
        }
      },
      "source": [
        "# We have flatten our 28 x 28 images into a row vectors with 784 features\n",
        "# 28 * 28 = 784\n",
        "X_train = X_train.reshape((X_train.shape[0], 784))\n",
        "X_test = X_test.reshape((X_test.shape[0], 784))\n",
        "\n",
        "print(X_train.shape)\n",
        "print(X_test.shape)"
      ],
      "execution_count": 24,
      "outputs": [
        {
          "output_type": "stream",
          "text": [
            "(80000, 784)\n",
            "(20000, 784)\n"
          ],
          "name": "stdout"
        }
      ]
    },
    {
      "cell_type": "code",
      "metadata": {
        "id": "dFkLJYCFGO0p",
        "outputId": "d44ac182-bff0-434f-e9f5-d73ab6b5dfa2",
        "colab": {
          "base_uri": "https://localhost:8080/"
        }
      },
      "source": [
        "model_adam.summary()"
      ],
      "execution_count": 27,
      "outputs": [
        {
          "output_type": "stream",
          "text": [
            "Model: \"sequential_3\"\n",
            "_________________________________________________________________\n",
            "Layer (type)                 Output Shape              Param #   \n",
            "=================================================================\n",
            "dense_3 (Dense)              (None, 10)                7850      \n",
            "=================================================================\n",
            "Total params: 7,850\n",
            "Trainable params: 7,850\n",
            "Non-trainable params: 0\n",
            "_________________________________________________________________\n"
          ],
          "name": "stdout"
        }
      ]
    },
    {
      "cell_type": "code",
      "metadata": {
        "id": "mPgrLjedGlV-",
        "outputId": "a9c88ac2-7632-42e8-e70b-56353d4cd1c8",
        "colab": {
          "base_uri": "https://localhost:8080/"
        }
      },
      "source": [
        "results_adam = model_adam.fit(X_train, \n",
        "                    y_train, \n",
        "                    epochs=5, \n",
        "                    validation_data=(X_test, y_test))"
      ],
      "execution_count": 28,
      "outputs": [
        {
          "output_type": "stream",
          "text": [
            "Epoch 1/5\n",
            "2500/2500 [==============================] - 6s 2ms/step - loss: 1.4761 - accuracy: 0.6511 - val_loss: 1.2060 - val_accuracy: 0.6643\n",
            "Epoch 2/5\n",
            "2500/2500 [==============================] - 6s 2ms/step - loss: 1.1228 - accuracy: 0.6740 - val_loss: 1.0319 - val_accuracy: 0.6910\n",
            "Epoch 3/5\n",
            "2500/2500 [==============================] - 6s 2ms/step - loss: 0.9730 - accuracy: 0.7189 - val_loss: 0.9140 - val_accuracy: 0.7461\n",
            "Epoch 4/5\n",
            "2500/2500 [==============================] - 6s 2ms/step - loss: 0.8838 - accuracy: 0.7536 - val_loss: 0.8686 - val_accuracy: 0.7583\n",
            "Epoch 5/5\n",
            "2500/2500 [==============================] - 6s 2ms/step - loss: 0.8485 - accuracy: 0.7604 - val_loss: 0.8465 - val_accuracy: 0.7629\n"
          ],
          "name": "stdout"
        }
      ]
    },
    {
      "cell_type": "markdown",
      "metadata": {
        "id": "b0QJURWh-9uv"
      },
      "source": [
        "### Visualize the results\n",
        "\n",
        "Create charts for both loss and accuracy by epoch. Use line graphs for both charts. Analyze the results. \n",
        "\n",
        "At what point should we have stopped training the model and why? "
      ]
    },
    {
      "cell_type": "code",
      "metadata": {
        "id": "KONJtU5wqlXf",
        "outputId": "0326fbc7-e340-48dd-cfb9-de6284203000",
        "colab": {
          "base_uri": "https://localhost:8080/"
        }
      },
      "source": [
        "results_adam.history"
      ],
      "execution_count": 29,
      "outputs": [
        {
          "output_type": "execute_result",
          "data": {
            "text/plain": [
              "{'accuracy': [0.6510624885559082,\n",
              "  0.6740249991416931,\n",
              "  0.7188875079154968,\n",
              "  0.7535874843597412,\n",
              "  0.7603750228881836],\n",
              " 'loss': [1.476093053817749,\n",
              "  1.1228359937667847,\n",
              "  0.9729808568954468,\n",
              "  0.8837823271751404,\n",
              "  0.8484882116317749],\n",
              " 'val_accuracy': [0.6643499732017517,\n",
              "  0.6909999847412109,\n",
              "  0.7461000084877014,\n",
              "  0.7583000063896179,\n",
              "  0.7628999948501587],\n",
              " 'val_loss': [1.2060232162475586,\n",
              "  1.0319055318832397,\n",
              "  0.9140123128890991,\n",
              "  0.8685530424118042,\n",
              "  0.846451461315155]}"
            ]
          },
          "metadata": {
            "tags": []
          },
          "execution_count": 29
        }
      ]
    },
    {
      "cell_type": "code",
      "metadata": {
        "id": "ijAlzfYKAFaY",
        "outputId": "8dc2cb38-f2c1-4f37-9504-b270603f3e22",
        "colab": {
          "base_uri": "https://localhost:8080/",
          "height": 281
        }
      },
      "source": [
        "import seaborn as sns\n",
        "import pandas as pd\n",
        "\n",
        "df = pd.DataFrame.from_records(results_adam.history)\n",
        "df['epoch'] = [i for i in range(df.shape[0])]\n",
        "\n",
        "ax = sns.lineplot(x='epoch', y='val_loss', data=df)\n",
        "ax = sns.lineplot(x='epoch', y='loss', data=df);"
      ],
      "execution_count": 31,
      "outputs": [
        {
          "output_type": "display_data",
          "data": {
            "image/png": "[encoded data removed]",
            "text/plain": [
              "<Figure size 432x288 with 1 Axes>"
            ]
          },
          "metadata": {
            "tags": [],
            "needs_background": "light"
          }
        }
      ]
    },
    {
      "cell_type": "code",
      "metadata": {
        "id": "NRh7Rnw-KN1M"
      },
      "source": [
        "# we should stop at 4 epochs - convergence of validation loss and accuracy loss\n"
      ],
      "execution_count": null,
      "outputs": []
    },
    {
      "cell_type": "markdown",
      "metadata": {
        "id": "MAhBrcE4yOZe"
      },
      "source": [
        "## Change Optimizers\n",
        "Try using the keras `adam` optimizer instead of `sgd` in your model. Visualize the difference in validation loss between the models with different optimizers. "
      ]
    },
    {
      "cell_type": "code",
      "metadata": {
        "id": "jIW_spOZ0cxy"
      },
      "source": [
        "# Stochastic gradient descent\n",
        "\n",
        "# need 10 neurons in last layer for output \n",
        "n_neurons = 10\n",
        "\n",
        "# docs for sequential: https://keras.io/api/models/sequential/\n",
        "# instantiate Sequential - builidng a computational graph one layer at a time \n",
        "model_sgd = Sequential()\n",
        "\n",
        "model_sgd.add(Dense(n_neurons, # number of neurons in this layer \n",
        "                input_dim=784, # implict input layer, here we need to specify the dims of the input data\n",
        "                activation='sigmoid', # specify the activation function\n",
        "               ))\n",
        "\n",
        "# Use sparse_categorical_crossentropy\n",
        "model_sgd.compile(optimizer='sgd', \n",
        "              loss='sparse_categorical_crossentropy', \n",
        "              metrics='accuracy',\n",
        "              #validation_split=0.2\n",
        "              ) \n",
        "\n",
        "# Limit model epochs to 30 each fit\n",
        "model_sgd.fit(X,y, epochs=30)\n"
      ],
      "execution_count": null,
      "outputs": []
    },
    {
      "cell_type": "code",
      "metadata": {
        "id": "msfB727NWvqW"
      },
      "source": [
        "# Standardization\n",
        "max_pixal_value = 255. \n",
        "X_train = X_train.astype('float32') / max_pixal_value\n",
        "X_test = X_test.astype('float32') /max_pixal_value"
      ],
      "execution_count": null,
      "outputs": []
    },
    {
      "cell_type": "code",
      "metadata": {
        "id": "1nyMRV8rWw38"
      },
      "source": [
        "# We have flatten our 28 x 28 images into a row vectors with 784 features\n",
        "# 28 * 28 = 784\n",
        "X_train = X_train.reshape((X_train.shape[0], 784))\n",
        "X_test = X_test.reshape((X_test.shape[0], 784))\n",
        "\n",
        "print(X_train.shape)\n",
        "print(X_test.shape)"
      ],
      "execution_count": null,
      "outputs": []
    },
    {
      "cell_type": "code",
      "metadata": {
        "id": "PX9E1Z2BXVXb"
      },
      "source": [
        "model_sgd.summary()"
      ],
      "execution_count": null,
      "outputs": []
    },
    {
      "cell_type": "code",
      "metadata": {
        "id": "1Ua4euPPXaLH"
      },
      "source": [
        "results_sgd = model_adam.fit(X_train, \n",
        "                    y_train, \n",
        "                    epochs=5, \n",
        "                    validation_data=(X_test, y_test))"
      ],
      "execution_count": null,
      "outputs": []
    },
    {
      "cell_type": "code",
      "metadata": {
        "id": "cx6dBVwmXitr"
      },
      "source": [
        "results_sgd.history"
      ],
      "execution_count": null,
      "outputs": []
    },
    {
      "cell_type": "code",
      "metadata": {
        "id": "elGd_lWKXp0-"
      },
      "source": [
        "df = pd.DataFrame.from_records(results_sgd.history)\n",
        "df['epoch'] = [i for i in range(df.shape[0])]\n",
        "\n",
        "ax = sns.lineplot(x='epoch', y='val_loss', data=df)\n",
        "ax = sns.lineplot(x='epoch', y='loss', data=df);"
      ],
      "execution_count": null,
      "outputs": []
    },
    {
      "cell_type": "code",
      "metadata": {
        "id": "EPab5iIsXwgl"
      },
      "source": [
        "# we should stop at __ epochs - convergence of validation loss and accuracy loss"
      ],
      "execution_count": null,
      "outputs": []
    },
    {
      "cell_type": "markdown",
      "metadata": {
        "id": "EJrbh3qryi4w"
      },
      "source": [
        "### Additional Written Tasks:\n",
        "In this section, you will need to search for resources: \n",
        "1. Investigate the various [loss functions](https://www.tensorflow.org/api_docs/python/tf/keras/losses). Which is best suited for the task at hand (predicting 1 / 0) and why? \n",
        "\n",
        "Sigmoid — This results in a value between 0 and 1 which we can infer to be how confident the model is of the example being in the class\n",
        "\n",
        "2. What is the difference between a loss function and a metric? Why might we need both in Keras? \n",
        "\n",
        "The loss function is used to optimize your model. This is the function that will get minimized by the optimizer. A metric is used to judge the performance of your model.\n",
        "\n",
        "3. Investigate the various [optimizers](https://www.tensorflow.org/api_docs/python/tf/keras/optimizers). Stochastic Gradient Descent (`sgd`) is not the learning algorithm dejour anyone. Why is that? What do newer optimizers such as `adam` have to offer? \n",
        "\n",
        "Stochastic Gradient Descent is an improved version of batch gradient descent. Instead of computing the gradients over the entire dataset, it performs a parameter update for each example in the dataset. The problem of SGD is that the updates are frequent and with a high variance, so the objective function heavily fluctuates during training. The problem of SGD is that the updates are frequent and with a high variance, so the objective function heavily fluctuates during training.\n",
        "\n",
        "Adam adds to the advantages of Adadelta and RMSprop, the storing of an exponentially decaying average of past gradients similar to momentum. Adam is the best among the adaptive optimizers in most of the cases. It is good with sparse data: the adaptive learning rate is perfect for this type of datasets.\n",
        "There is no need to focus on the learning rate value.\n",
        "\n",
        "Adam is the best choice in general. Anyway, many recent papers state that SGD can bring to better results if combined with a good learning rate annealing schedule which aims to manage its value during the training.\n",
        "First try Adam in any case, because it is more likely to return good results without an advanced fine tuning. Then, if Adam achieves good results, it could be a good idea to switch on SGD to see what happens."
      ]
    },
    {
      "cell_type": "markdown",
      "metadata": {
        "id": "Gzs4fd-RynDd"
      },
      "source": [
        "## Stretch Goals: \n",
        "\n",
        "- Research convolutional neural networks and try including convolution layers in your network.\n",
        "- Pick two classes and make QuickDraw a binary classification problem, how does your model architecture change?\n",
        "- Implement Cross Validation model evaluation on your Quickdraw implementation \n",
        "\n",
        "Watch some more videos on Gradient Descent:\n",
        "- [Gradient Descent, Step-by-Step](https://www.youtube.com/watch?v=sDv4f4s2SB8)  by StatQuest w/ Josh Starmer. This will help you understand the gradient descent based optimization that happens underneath the hood of neural networks. It uses a non-neural network example, which I believe is a gentler introduction. You will hear me refer to this technique as \"vanilla\" gradient descent. \n",
        "- [Stochastic Gradient Descent, Clearly Explained!!!](https://www.youtube.com/watch?v=vMh0zPT0tLI) by StatQuest w/ Josh Starmer. This builds on the techniques in the previous video.  This technique is the one that is actually implemented inside modern 'nets. \n",
        "- [Siraj Raval the evolution of gradient descent](https://www.youtube.com/watch?v=nhqo0u1a6fw)"
      ]
    }
  ]
}